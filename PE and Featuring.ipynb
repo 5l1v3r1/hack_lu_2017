{
 "cells": [
  {
   "cell_type": "markdown",
   "metadata": {},
   "source": [
    "# Parse all PE to transform JSON files"
   ]
  },
  {
   "cell_type": "code",
   "execution_count": null,
   "metadata": {},
   "outputs": [],
   "source": [
    "from peanalysis.parse import PEParser\n",
    "import os\n",
    "import json\n",
    "import numpy as np\n",
    "from IPython.display import display\n",
    "from ipywidgets import widgets"
   ]
  },
  {
   "cell_type": "markdown",
   "metadata": {},
   "source": [
    "## Loads all path of pe files"
   ]
  },
  {
   "cell_type": "code",
   "execution_count": null,
   "metadata": {},
   "outputs": [],
   "source": [
    "input_text=widgets.Text()\n",
    "all_file = []\n",
    "path_repo = '/home/slarinier/Documents/projet/viralstudio/theZoo/malwares/Binaries/'\n",
    "\n",
    "\n"
   ]
  },
  {
   "cell_type": "code",
   "execution_count": null,
   "metadata": {},
   "outputs": [],
   "source": [
    "for root, subFolders, files in os.walk(path_repo):\n",
    "    for file in files:\n",
    "        path_file = os.path.join(root, file)\n",
    "        all_file.append(path_file)"
   ]
  },
  {
   "cell_type": "code",
   "execution_count": null,
   "metadata": {},
   "outputs": [],
   "source": [
    "all_file"
   ]
  },
  {
   "cell_type": "markdown",
   "metadata": {},
   "source": [
    "##  Store all PEs parsed"
   ]
  },
  {
   "cell_type": "code",
   "execution_count": null,
   "metadata": {},
   "outputs": [],
   "source": [
    "all_pe = []\n",
    "for p in all_file:\n",
    "    try:\n",
    "        pe = PEParser(p)\n",
    "        pe.load()\n",
    "        pe.dump_sections()\n",
    "        pe.dump_imports()\n",
    "        pe.dump_exports()\n",
    "        pe.dump_resources()\n",
    "        pe.dump_tls()\n",
    "        all_pe.append(pe)\n",
    "    except:\n",
    "        pass"
   ]
  },
  {
   "cell_type": "code",
   "execution_count": null,
   "metadata": {},
   "outputs": [],
   "source": [
    "len(all_pe)"
   ]
  },
  {
   "cell_type": "code",
   "execution_count": null,
   "metadata": {},
   "outputs": [],
   "source": [
    "all_pe[0].dict_pe"
   ]
  },
  {
   "cell_type": "markdown",
   "metadata": {},
   "source": [
    "## Record in json files the data parsed"
   ]
  },
  {
   "cell_type": "code",
   "execution_count": null,
   "metadata": {},
   "outputs": [],
   "source": [
    "for p in all_pe:\n",
    "    json.dump( p.dict_pe,open('%s.json' %os.path.join('jsonfiles', p.dict_pe['hashes']['sha256']),'w'))"
   ]
  },
  {
   "cell_type": "code",
   "execution_count": null,
   "metadata": {},
   "outputs": [],
   "source": [
    "len(all_pe)"
   ]
  },
  {
   "cell_type": "markdown",
   "metadata": {},
   "source": [
    "## Check Collisions"
   ]
  },
  {
   "cell_type": "code",
   "execution_count": null,
   "metadata": {},
   "outputs": [],
   "source": [
    "all_sha256 = [ p.dict_pe['hashes']['sha256']for p in all_pe]"
   ]
  },
  {
   "cell_type": "code",
   "execution_count": null,
   "metadata": {},
   "outputs": [],
   "source": [
    "len(all_sha256)"
   ]
  },
  {
   "cell_type": "code",
   "execution_count": null,
   "metadata": {},
   "outputs": [],
   "source": [
    "len(set(all_sha256))"
   ]
  },
  {
   "cell_type": "code",
   "execution_count": null,
   "metadata": {},
   "outputs": [],
   "source": [
    "from collections import Counter\n",
    "c = Counter()\n",
    "for s in all_sha256:\n",
    "    c[s] +=1"
   ]
  },
  {
   "cell_type": "code",
   "execution_count": null,
   "metadata": {},
   "outputs": [],
   "source": [
    "collision = [ k for k,v in c.items() if v > 1]\n",
    "collision"
   ]
  },
  {
   "cell_type": "code",
   "execution_count": null,
   "metadata": {},
   "outputs": [],
   "source": [
    "[(p.dict_pe['hashes']['sha256'] ,p.dict_pe['path']) for p in all_pe if p.dict_pe['hashes']['sha256'] in collision]"
   ]
  },
  {
   "cell_type": "code",
   "execution_count": null,
   "metadata": {},
   "outputs": [],
   "source": [
    "sorted(_, key = lambda x : x[0])"
   ]
  },
  {
   "cell_type": "markdown",
   "metadata": {},
   "source": [
    "# First vector of features"
   ]
  },
  {
   "cell_type": "markdown",
   "metadata": {},
   "source": [
    "## Storage metadata in redis"
   ]
  },
  {
   "cell_type": "code",
   "execution_count": null,
   "metadata": {},
   "outputs": [],
   "source": [
    "import glob\n",
    "from redis_management import RedisManagement\n",
    "from collections import OrderedDict\n",
    "from ml_helpers import ml_helpers\n",
    "rmgt = RedisManagement('malwares')"
   ]
  },
  {
   "cell_type": "code",
   "execution_count": null,
   "metadata": {},
   "outputs": [],
   "source": [
    "features = ['size of file', 'number of sections', 'median of entropy', 'number of imports', 'number of exports']"
   ]
  },
  {
   "cell_type": "code",
   "execution_count": null,
   "metadata": {},
   "outputs": [],
   "source": [
    "all_json_files = [ json.load(open(path))for path in glob.glob('jsonfiles/*')]"
   ]
  },
  {
   "cell_type": "code",
   "execution_count": null,
   "metadata": {},
   "outputs": [],
   "source": [
    "for j in all_json_files:\n",
    "    malware = OrderedDict()\n",
    "    malware[features[0]] = j['size']\n",
    "    malware[features[1]] = j['number_sections']\n",
    "    malware[features[2]] = sum( sec['entropy'] for sec in j['sections']) / j['number_sections']\n",
    "    malware[features[3]] = sum(len(v) for k,v in j['imports'].items())\n",
    "    malware[features[4]] =  sum(len(v) for k,v in j['exports'].items())\n",
    "    rmgt.record_vector(j['hashes']['sha256'],'first_vector',malware)\n",
    "    rmgt.record_malware_label(j['hashes']['sha256'],j['path'],path_repo)   "
   ]
  },
  {
   "cell_type": "markdown",
   "metadata": {},
   "source": [
    "## Create Matrix of vectors features"
   ]
  },
  {
   "cell_type": "code",
   "execution_count": null,
   "metadata": {},
   "outputs": [],
   "source": [
    "ml_h = ml_helpers(rmgt.redis_client)\n",
    "mat = ml_h.create_matrix('first_vector')\n",
    "mat"
   ]
  },
  {
   "cell_type": "code",
   "execution_count": null,
   "metadata": {},
   "outputs": [],
   "source": [
    "mat.shape"
   ]
  },
  {
   "cell_type": "code",
   "execution_count": null,
   "metadata": {},
   "outputs": [],
   "source": [
    "np.save('matrix_first_vector', mat)"
   ]
  },
  {
   "cell_type": "markdown",
   "metadata": {},
   "source": [
    "# Second Vector of features"
   ]
  },
  {
   "cell_type": "code",
   "execution_count": null,
   "metadata": {},
   "outputs": [],
   "source": [
    "import glob\n",
    "from redis_management import RedisManagement\n",
    "from collections import OrderedDict\n",
    "from ml_helpers import ml_helpers\n",
    "import numpy as np\n",
    "rmgt = RedisManagement('malwares')\n",
    "ml_h = ml_helpers(rmgt.redis_client)"
   ]
  },
  {
   "cell_type": "code",
   "execution_count": null,
   "metadata": {},
   "outputs": [],
   "source": [
    "all_vectors = [eval(rmgt.client.hget(k,'first_vector')) for k in sorted(rmgt.client.keys())]"
   ]
  },
  {
   "cell_type": "code",
   "execution_count": null,
   "metadata": {},
   "outputs": [],
   "source": [
    "all_vectors"
   ]
  },
  {
   "cell_type": "code",
   "execution_count": null,
   "metadata": {},
   "outputs": [],
   "source": [
    "max_values = ml_h.get_max_values(all_vectors,features)"
   ]
  },
  {
   "cell_type": "code",
   "execution_count": null,
   "metadata": {},
   "outputs": [],
   "source": [
    "max_values"
   ]
  },
  {
   "cell_type": "code",
   "execution_count": null,
   "metadata": {},
   "outputs": [],
   "source": [
    "list_second_vector = [OrderedDict((k, v / max_values[k]) for k,v in m.items()) for m in all_vectors]"
   ]
  },
  {
   "cell_type": "code",
   "execution_count": null,
   "metadata": {},
   "outputs": [],
   "source": [
    "list_second_vector"
   ]
  },
  {
   "cell_type": "code",
   "execution_count": null,
   "metadata": {},
   "outputs": [],
   "source": [
    "all_malware=ml_h.get_all_malwares\n",
    "for index,v in enumerate(list_second_vector):\n",
    "    rmgt.record_vector(all_malware[index],'second_vector',v)\n",
    "    "
   ]
  },
  {
   "cell_type": "code",
   "execution_count": null,
   "metadata": {},
   "outputs": [],
   "source": [
    "mat_second_vect = ml_h.create_matrix('second_vector')"
   ]
  },
  {
   "cell_type": "code",
   "execution_count": null,
   "metadata": {},
   "outputs": [],
   "source": [
    "mat_second_vect.shape"
   ]
  },
  {
   "cell_type": "code",
   "execution_count": null,
   "metadata": {},
   "outputs": [],
   "source": [
    "np.save('matrix_second_vector',mat_second_vect)"
   ]
  },
  {
   "cell_type": "code",
   "execution_count": null,
   "metadata": {},
   "outputs": [],
   "source": []
  }
 ],
 "metadata": {
  "kernelspec": {
   "display_name": "Python 3",
   "language": "python",
   "name": "python3"
  },
  "language_info": {
   "codemirror_mode": {
    "name": "ipython",
    "version": 3
   },
   "file_extension": ".py",
   "mimetype": "text/x-python",
   "name": "python",
   "nbconvert_exporter": "python",
   "pygments_lexer": "ipython3",
   "version": "3.5.3"
  }
 },
 "nbformat": 4,
 "nbformat_minor": 2
}
