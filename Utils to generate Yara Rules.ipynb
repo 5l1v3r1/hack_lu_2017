{
 "cells": [
  {
   "cell_type": "code",
   "execution_count": 1,
   "metadata": {},
   "outputs": [],
   "source": [
    "import json\n",
    "import os\n",
    "from redis_management import RedisManagement\n",
    "import shutil\n",
    "import glob\n",
    "rmgt = RedisManagement('malwares')\n",
    "repo_json='./jsonfiles/'\n",
    "repo_to_yara='./files_to_yara_rules'"
   ]
  },
  {
   "cell_type": "code",
   "execution_count": 2,
   "metadata": {},
   "outputs": [],
   "source": [
    "number_cluster = 45"
   ]
  },
  {
   "cell_type": "code",
   "execution_count": 3,
   "metadata": {},
   "outputs": [],
   "source": [
    "for path in glob.glob(repo_to_yara+'/*'):\n",
    "    os.remove(path)"
   ]
  },
  {
   "cell_type": "code",
   "execution_count": 4,
   "metadata": {},
   "outputs": [],
   "source": [
    "malwares_equation_group_cluster_1 = [m.decode() for m in rmgt.client.keys() if int(rmgt.client.hget(m,'DBscan_second_vector'))== number_cluster]"
   ]
  },
  {
   "cell_type": "code",
   "execution_count": 5,
   "metadata": {},
   "outputs": [
    {
     "data": {
      "text/plain": [
       "['2c9c3ddd4d93e687eb095444cef7668b21636b364bff55de953bdd1df40071da',\n",
       " 'd12cd9490fd75e192ea053a05e869ed2f3f9748bf1563e6e496e7153fb4e6c98',\n",
       " '6c803aac51038ce308ee085f2cd82a055aaa9ba24d08a19efb2c0fcfde936c34',\n",
       " '2ecb26021d21fcef3d8bba63de0c888499110a2b78e4caa6fa07a2b27d87f71b',\n",
       " '6e09e1a4f56ea736ff21ad5e188845615b57e1a5168f4bdaebe7ddc634912de9',\n",
       " 'c16410c49dc40a371be22773f420b7dd3cfd4d8205cf39909ad9a6f26f55718e']"
      ]
     },
     "execution_count": 5,
     "metadata": {},
     "output_type": "execute_result"
    }
   ],
   "source": [
    "malwares_equation_group_cluster_1"
   ]
  },
  {
   "cell_type": "code",
   "execution_count": 6,
   "metadata": {},
   "outputs": [],
   "source": [
    "all_path_equ=[json.load(open(os.path.join(repo_json,'%s.json' % m)))['path'] for m in malwares_equation_group_cluster_1]"
   ]
  },
  {
   "cell_type": "code",
   "execution_count": 7,
   "metadata": {},
   "outputs": [
    {
     "data": {
      "text/plain": [
       "['/home/slarinier/Documents/projet/viralstudio/theZoo/malwares/Binaries/Duqu2/IOC/2c9c3ddd4d93e687eb095444cef7668b21636b364bff55de953bdd1df40071da',\n",
       " '/home/slarinier/Documents/projet/viralstudio/theZoo/malwares/Binaries/Duqu2/IOC/d12cd9490fd75e192ea053a05e869ed2f3f9748bf1563e6e496e7153fb4e6c98',\n",
       " '/home/slarinier/Documents/projet/viralstudio/theZoo/malwares/Binaries/Duqu2/IOC/6c803aac51038ce308ee085f2cd82a055aaa9ba24d08a19efb2c0fcfde936c34',\n",
       " '/home/slarinier/Documents/projet/viralstudio/theZoo/malwares/Binaries/Duqu2/IOC/2ecb26021d21fcef3d8bba63de0c888499110a2b78e4caa6fa07a2b27d87f71b',\n",
       " '/home/slarinier/Documents/projet/viralstudio/theZoo/malwares/Binaries/Duqu2/IOC/6e09e1a4f56ea736ff21ad5e188845615b57e1a5168f4bdaebe7ddc634912de9',\n",
       " '/home/slarinier/Documents/projet/viralstudio/theZoo/malwares/Binaries/Duqu2/IOC/c16410c49dc40a371be22773f420b7dd3cfd4d8205cf39909ad9a6f26f55718e']"
      ]
     },
     "execution_count": 7,
     "metadata": {},
     "output_type": "execute_result"
    }
   ],
   "source": [
    "all_path_equ"
   ]
  },
  {
   "cell_type": "code",
   "execution_count": 8,
   "metadata": {},
   "outputs": [],
   "source": [
    "for path in all_path_equ:\n",
    "    shutil.copyfile(path,os.path.join(repo_to_yara,os.path.basename(path)))"
   ]
  },
  {
   "cell_type": "code",
   "execution_count": null,
   "metadata": {},
   "outputs": [],
   "source": []
  }
 ],
 "metadata": {
  "kernelspec": {
   "display_name": "Python 3",
   "language": "python",
   "name": "python3"
  },
  "language_info": {
   "codemirror_mode": {
    "name": "ipython",
    "version": 3
   },
   "file_extension": ".py",
   "mimetype": "text/x-python",
   "name": "python",
   "nbconvert_exporter": "python",
   "pygments_lexer": "ipython3",
   "version": "3.5.3"
  }
 },
 "nbformat": 4,
 "nbformat_minor": 2
}
